{
  "nbformat": 4,
  "nbformat_minor": 0,
  "metadata": {
    "colab": {
      "name": "string.ipynb",
      "provenance": [],
      "collapsed_sections": [],
      "authorship_tag": "ABX9TyNkdaJ8Sru5c0pQs89IbjHl",
      "include_colab_link": true
    },
    "kernelspec": {
      "name": "python3",
      "display_name": "Python 3"
    },
    "language_info": {
      "name": "python"
    }
  },
  "cells": [
    {
      "cell_type": "markdown",
      "metadata": {
        "id": "view-in-github",
        "colab_type": "text"
      },
      "source": [
        "<a href=\"https://colab.research.google.com/github/Devikakpramod/PYTHON/blob/main/string.ipynb\" target=\"_parent\"><img src=\"https://colab.research.google.com/assets/colab-badge.svg\" alt=\"Open In Colab\"/></a>"
      ]
    },
    {
      "cell_type": "code",
      "execution_count": 1,
      "metadata": {
        "colab": {
          "base_uri": "https://localhost:8080/"
        },
        "id": "ueDeJvU0Tx0Y",
        "outputId": "a729102f-8731-45c2-e191-c85c02288ba3"
      },
      "outputs": [
        {
          "output_type": "stream",
          "name": "stdout",
          "text": [
            "hello\n",
            "hello\n"
          ]
        }
      ],
      "source": [
        "s='hello'\n",
        "u='hello'\n",
        "print(s)\n",
        "print(u)"
      ]
    },
    {
      "cell_type": "code",
      "source": [
        "a1=\"hello\"\n",
        "a2=\"world\"\n",
        "a3=a1+''+a2\n",
        "print(a3)"
      ],
      "metadata": {
        "colab": {
          "base_uri": "https://localhost:8080/"
        },
        "id": "M9JhLzIVT7ds",
        "outputId": "8475ed36-267c-4ace-ccb4-9f8533cb748b"
      },
      "execution_count": 3,
      "outputs": [
        {
          "output_type": "stream",
          "name": "stdout",
          "text": [
            "helloworld\n"
          ]
        }
      ]
    },
    {
      "cell_type": "code",
      "source": [
        "print(len(a3))"
      ],
      "metadata": {
        "colab": {
          "base_uri": "https://localhost:8080/"
        },
        "id": "rH8S-5ETUher",
        "outputId": "d2389770-dea0-4b5f-e279-e52b0ff39acc"
      },
      "execution_count": 4,
      "outputs": [
        {
          "output_type": "stream",
          "name": "stdout",
          "text": [
            "10\n"
          ]
        }
      ]
    },
    {
      "cell_type": "code",
      "source": [
        "print(a3.upper())"
      ],
      "metadata": {
        "colab": {
          "base_uri": "https://localhost:8080/"
        },
        "id": "aF3NzbqIUvuk",
        "outputId": "53dfbc53-72cb-4440-a807-9d826d38d469"
      },
      "execution_count": 5,
      "outputs": [
        {
          "output_type": "stream",
          "name": "stdout",
          "text": [
            "HELLOWORLD\n"
          ]
        }
      ]
    },
    {
      "cell_type": "code",
      "source": [
        "print(a3.capitalize())"
      ],
      "metadata": {
        "colab": {
          "base_uri": "https://localhost:8080/"
        },
        "id": "MtN3BxBTU4oU",
        "outputId": "72593726-27c6-416f-daf0-5bb5ccd08642"
      },
      "execution_count": 6,
      "outputs": [
        {
          "output_type": "stream",
          "name": "stdout",
          "text": [
            "Helloworld\n"
          ]
        }
      ]
    },
    {
      "cell_type": "code",
      "source": [
        "print(a3.lower())"
      ],
      "metadata": {
        "colab": {
          "base_uri": "https://localhost:8080/"
        },
        "id": "96y3VktUU-Xk",
        "outputId": "8d274c58-35ed-42b4-c9f1-d258ede9d184"
      },
      "execution_count": 7,
      "outputs": [
        {
          "output_type": "stream",
          "name": "stdout",
          "text": [
            "helloworld\n"
          ]
        }
      ]
    },
    {
      "cell_type": "code",
      "source": [
        "print('hello world how are you'.split(' '))"
      ],
      "metadata": {
        "colab": {
          "base_uri": "https://localhost:8080/"
        },
        "id": "OB8yMYrWVCzU",
        "outputId": "3830c2d6-84bd-4224-d3ff-5b5473963fbb"
      },
      "execution_count": 12,
      "outputs": [
        {
          "output_type": "stream",
          "name": "stdout",
          "text": [
            "['hello', 'world', 'how', 'are', 'you']\n"
          ]
        }
      ]
    },
    {
      "cell_type": "code",
      "source": [
        "print('boo'.replace('o','e'))"
      ],
      "metadata": {
        "colab": {
          "base_uri": "https://localhost:8080/"
        },
        "id": "L-3c-ipaVQfT",
        "outputId": "53d9bb3d-bf21-474f-a40d-603143da1b6d"
      },
      "execution_count": 14,
      "outputs": [
        {
          "output_type": "stream",
          "name": "stdout",
          "text": [
            "bee\n"
          ]
        }
      ]
    },
    {
      "cell_type": "code",
      "source": [
        "word='jewellery'\n",
        "print(word.find('well'))\n",
        "print(word.find('is'))"
      ],
      "metadata": {
        "colab": {
          "base_uri": "https://localhost:8080/"
        },
        "id": "cRdsXjRRWBCE",
        "outputId": "76af170a-5088-4891-c303-d1743724c275"
      },
      "execution_count": 15,
      "outputs": [
        {
          "output_type": "stream",
          "name": "stdout",
          "text": [
            "2\n",
            "-1\n"
          ]
        }
      ]
    },
    {
      "cell_type": "code",
      "source": [
        "a3='%s %s %d' %(a1,a2,1011)\n",
        "print(a3)"
      ],
      "metadata": {
        "colab": {
          "base_uri": "https://localhost:8080/"
        },
        "id": "-9EwXsDIWbxk",
        "outputId": "9a6f1136-472b-4315-90a8-e3130eed3638"
      },
      "execution_count": 16,
      "outputs": [
        {
          "output_type": "stream",
          "name": "stdout",
          "text": [
            "hello world 1011\n"
          ]
        }
      ]
    },
    {
      "cell_type": "code",
      "source": [],
      "metadata": {
        "id": "sKbKpb_0XJFj"
      },
      "execution_count": null,
      "outputs": []
    }
  ]
}