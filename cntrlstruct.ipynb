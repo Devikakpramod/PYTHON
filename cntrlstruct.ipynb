{
  "nbformat": 4,
  "nbformat_minor": 0,
  "metadata": {
    "colab": {
      "name": "cntrlstruct.ipynb",
      "provenance": [],
      "authorship_tag": "ABX9TyO2+3Zl2ALGKnIL9/SR55l3",
      "include_colab_link": true
    },
    "kernelspec": {
      "name": "python3",
      "display_name": "Python 3"
    },
    "language_info": {
      "name": "python"
    }
  },
  "cells": [
    {
      "cell_type": "markdown",
      "metadata": {
        "id": "view-in-github",
        "colab_type": "text"
      },
      "source": [
        "<a href=\"https://colab.research.google.com/github/Devikakpramod/PYTHON/blob/main/cntrlstruct.ipynb\" target=\"_parent\"><img src=\"https://colab.research.google.com/assets/colab-badge.svg\" alt=\"Open In Colab\"/></a>"
      ]
    },
    {
      "cell_type": "code",
      "execution_count": 8,
      "metadata": {
        "colab": {
          "base_uri": "https://localhost:8080/"
        },
        "id": "Gdn7kjiDXVdH",
        "outputId": "f563db09-3c8d-4ef2-84ac-8bce5f78193d"
      },
      "outputs": [
        {
          "output_type": "stream",
          "name": "stdout",
          "text": [
            "3 digit\n"
          ]
        }
      ],
      "source": [
        "number=100\n",
        "if number >99 and number <1000:\n",
        "  print('3 digit')\n",
        "else:\n",
        "    print('Not 3 digit')"
      ]
    },
    {
      "cell_type": "code",
      "source": [
        "response=input('are you familiar with python:')\n",
        "if response.upper()==\"YES\":\n",
        "  print(\"you can skip this course:-1\")\n",
        "elif response.upper()==\"NO\":\n",
        "  print(\"you are at the right place:-1\")\n",
        "else:\n",
        "  print('sorry wrong input:-1');"
      ],
      "metadata": {
        "colab": {
          "base_uri": "https://localhost:8080/"
        },
        "id": "lxrxfDYfXrts",
        "outputId": "8c2d3324-2e1c-46ac-d7f9-c8239a9f367a"
      },
      "execution_count": 24,
      "outputs": [
        {
          "output_type": "stream",
          "name": "stdout",
          "text": [
            "are you familiar with python:yes\n",
            "you can skip this course:-1\n"
          ]
        }
      ]
    },
    {
      "cell_type": "code",
      "source": [
        "for x in range(10):\n",
        "  print(x,end=' ')"
      ],
      "metadata": {
        "colab": {
          "base_uri": "https://localhost:8080/"
        },
        "id": "EqT0KFepaDKG",
        "outputId": "48e6517a-8021-46e2-9814-fd646f4176f4"
      },
      "execution_count": 32,
      "outputs": [
        {
          "output_type": "stream",
          "name": "stdout",
          "text": [
            "0 1 2 3 4 5 6 7 8 9 "
          ]
        }
      ]
    }
  ]
}